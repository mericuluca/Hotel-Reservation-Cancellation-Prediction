{
  "cells": [
    {
      "cell_type": "code",
      "execution_count": null,
      "metadata": {
        "id": "Xr0c1hOKRID-"
      },
      "outputs": [],
      "source": [
        "import numpy as np\n",
        "import pandas as pd\n",
        "import matplotlib.pyplot as plt\n",
        "from sklearn.preprocessing import *\n",
        "from sklearn import preprocessing\n",
        "from imblearn.under_sampling import RandomUnderSampler\n",
        "\n",
        "data = pd.read_csv(\"hotel_booking.csv\")\n",
        "\n",
        "\n",
        "data_deleted= data.drop(data.columns[[3,4,5,6,10,13,23,24,25,28,29,30,31,32,33,34,35]] , axis = 1)\n",
        "\n",
        "for name in [\"hotel\",\"meal\",\"market_segment\",\"distribution_channel\",\"reserved_room_type\",\"assigned_room_type\",\"deposit_type\",\"customer_type\"]:\n",
        "    enc_arr = OneHotEncoder().fit_transform(data[[name]]).toarray()\n",
        "    data_deleted[\"encoded_\"+name] = enc_arr.tolist()\n",
        "    #print(data_deleted)\n",
        "    data_deleted.drop(name,axis=1, inplace=True)\n",
        "\n",
        "for name in [\"lead_time\",\"stays_in_weekend_nights\",\"stays_in_week_nights\",\"adults\",\"babies\",\"is_repeated_guest\",\"previous_cancellations\",\"previous_bookings_not_canceled\",\"booking_changes\",\"adr\"]:\n",
        "    arr = data_deleted[name].to_numpy()\n",
        "    normalized_arr = preprocessing.normalize([arr])\n",
        "    normalized_arr_transpose = np.transpose(normalized_arr)\n",
        "    data_deleted[\"normalized_\"+name] = normalized_arr_transpose.tolist()\n",
        "    data_deleted.drop(name, axis=1, inplace=True)\n",
        "\n",
        "X=data_deleted.drop(\"is_canceled\",axis=1)\n",
        "y = data_deleted[\"is_canceled\"]\n",
        "\n",
        "rus = RandomUnderSampler(sampling_strategy='not minority')\n",
        "X_res, y_res = rus.fit_resample(X,y)\n",
        "\n",
        "final_data = X_res.join(y_res)\n",
        "\n",
        "final_data.to_csv(\"final_data.csv\", index = False,header=None)\n"
      ]
    },
    {
      "cell_type": "code",
      "execution_count": null,
      "metadata": {
        "colab": {
          "base_uri": "https://localhost:8080/"
        },
        "id": "L-gqRt3RRjgz",
        "outputId": "11f2b65e-9b13-4be8-8970-978b62000c0f"
      },
      "outputs": [
        {
          "output_type": "stream",
          "name": "stdout",
          "text": [
            "(17695, 10)\n",
            "(17695, 1)\n"
          ]
        }
      ],
      "source": [
        "import numpy as np\n",
        "import pandas as pd\n",
        "import matplotlib.pyplot as plt\n",
        "from sklearn.preprocessing import *\n",
        "from sklearn import preprocessing\n",
        "from imblearn.under_sampling import RandomUnderSampler\n",
        "data = pd.read_csv(\"final_data.csv\")\n",
        "\n",
        "from sklearn import svm\n",
        "np.random.seed(7)\n",
        "data= data.to_numpy()\n",
        "\n",
        "x_=data[:,0:-1]\n",
        "y=data[:,-1]\n",
        "a=True\n",
        "b=True\n",
        "c=3\n",
        "d=[]\n",
        "for i in x_:\n",
        "  #print(i)\n",
        "  x=[]\n",
        "  for j in i:\n",
        "    #print(j)\n",
        "    #print(len(j))\n",
        "    if j.__contains__(','):\n",
        "      for e in range(len(j)):\n",
        "        #print(len(j))\n",
        "        if e%5==0:\n",
        "          #print(e%5)\n",
        "          #print(e)\n",
        "          if e<len(j)-2:\n",
        "            #print(len(j)-2)\n",
        "            #print((j[e+1:e+1+c]))\n",
        "            x.append(float(j[e+1:e+1+c]))\n",
        "            #print(x)\n",
        "    else:\n",
        "      x.append(j[1:len(j)-1])\n",
        "  #print(type(x[0]))\n",
        "  d.append(x)\n",
        "  #print(type(d[0][0]))\n",
        "\n",
        "x_data=np.array(d)\n",
        "x_data=x_data.astype(np.float64)\n",
        "\n",
        "from sklearn.decomposition import PCA\n",
        "pca = PCA(n_components=10)\n",
        "x_data=pca.fit_transform(x_data)\n",
        "\n",
        "x_arr=  np.empty(x_data.shape, dtype=x_data.dtype)\n",
        "y_list = []\n",
        "p = np.random.permutation(len(x_data))\n",
        "for m, n in enumerate(p):\n",
        "  x_arr[n] = x_data[m]\n",
        "  if y[m]==0:\n",
        "    a=np.array([0])\n",
        "    y_list.append(a)\n",
        "  else:\n",
        "    a=np.array([1])\n",
        "    y_list.append(a)\n",
        "  \"\"\"\n",
        "  y_arr[n] = y[m]\n",
        "  \"\"\"\n",
        "y_arr=np.array(y_list)\n",
        "x_train=x_arr[0:(len(x_arr)//10)*7]\n",
        "y_train=y_arr[0:(len(y_arr)//10)*7]\n",
        "x_val=x_arr[(len(x_arr)//10)*7:(len(x_arr)//10)*8]\n",
        "y_val=y_arr[(len(y_arr)//10)*7:(len(x_arr)//10)*8]\n",
        "x_test=x_arr[(len(x_arr)//10)*8:len(x_arr)]\n",
        "y_test=y_arr[(len(y_arr)//10)*8:len(y_arr)]\n",
        "print(np.shape(x_test))\n",
        "print(np.shape(y_test))\n",
        "\n",
        "def acc(x_test,y_test,clf):\n",
        "  a=0\n",
        "  for i in range(len(x_test)):\n",
        "    res=clf.predict(x_test[i].reshape(1,-1))\n",
        "    #print(res)\n",
        "    if res==y_test[i]:\n",
        "      a+=1\n",
        "  return a/len(x_test)\n",
        "\n",
        "y_train=y_train.astype(np.uint8)\n"
      ]
    },
    {
      "cell_type": "code",
      "execution_count": null,
      "metadata": {
        "id": "xGA3pm8tRI2r"
      },
      "outputs": [],
      "source": [
        "import tensorflow as tf\n",
        "from tensorflow.python.keras.layers import Dense\n",
        "from tensorflow.python.keras import Sequential\n",
        "model = Sequential()\n",
        "model.add(Dense(32, input_shape=(10,), activation='sigmoid'))\n",
        "model.add(Dense(8, activation='sigmoid'))\n",
        "model.add(Dense(2, activation='sigmoid'))"
      ]
    },
    {
      "cell_type": "code",
      "source": [
        "type(y_train[0])"
      ],
      "metadata": {
        "colab": {
          "base_uri": "https://localhost:8080/"
        },
        "id": "-WOz5lRPX69w",
        "outputId": "5359bbd0-eac5-4c9e-bc02-15e505dd36e8"
      },
      "execution_count": null,
      "outputs": [
        {
          "output_type": "execute_result",
          "data": {
            "text/plain": [
              "numpy.ndarray"
            ]
          },
          "metadata": {},
          "execution_count": 42
        }
      ]
    },
    {
      "cell_type": "code",
      "source": [
        "model.compile(optimizer='sgd',loss='mse',metrics=[tf.keras.metrics.BinaryAccuracy()])\n",
        "history = model.fit(x_train, y_train, epochs=5, validation_data=(x_val, y_val))"
      ],
      "metadata": {
        "colab": {
          "base_uri": "https://localhost:8080/"
        },
        "id": "jb1__olWvyWG",
        "outputId": "e1d55c8d-a48b-4b1c-8001-a28c6744cfd5"
      },
      "execution_count": null,
      "outputs": [
        {
          "output_type": "stream",
          "name": "stdout",
          "text": [
            "Epoch 1/5\n",
            "1935/1935 [==============================] - 3s 2ms/step - loss: 0.2124 - binary_accuracy: 0.6381 - val_loss: 0.4912 - val_binary_accuracy: 0.6441\n",
            "Epoch 2/5\n",
            "1935/1935 [==============================] - 3s 2ms/step - loss: 0.2041 - binary_accuracy: 0.6342 - val_loss: 0.5107 - val_binary_accuracy: 0.6340\n",
            "Epoch 3/5\n",
            "1935/1935 [==============================] - 3s 2ms/step - loss: 0.2041 - binary_accuracy: 0.6312 - val_loss: 0.5102 - val_binary_accuracy: 0.6309\n",
            "Epoch 4/5\n",
            "1935/1935 [==============================] - 3s 2ms/step - loss: 0.2041 - binary_accuracy: 0.6293 - val_loss: 0.5129 - val_binary_accuracy: 0.6294\n",
            "Epoch 5/5\n",
            "1935/1935 [==============================] - 3s 2ms/step - loss: 0.2041 - binary_accuracy: 0.6287 - val_loss: 0.5090 - val_binary_accuracy: 0.6285\n"
          ]
        }
      ]
    },
    {
      "cell_type": "code",
      "source": [
        "plt.plot(history.history['binary_accuracy'], label='binary_accuracy')\n",
        "plt.plot(history.history['val_binary_accuracy'], label = 'val__binary_accuracy')\n",
        "plt.xlabel('Epoch')\n",
        "plt.ylabel('Accuracy')\n",
        "plt.ylim([0.5, 1])\n",
        "plt.legend(loc='lower right')\n",
        "\n",
        "test_loss, test_acc = model.evaluate(x_test,  y_test, verbose=2)"
      ],
      "metadata": {
        "colab": {
          "base_uri": "https://localhost:8080/",
          "height": 301
        },
        "id": "PFJF2WIhQu11",
        "outputId": "d7fb3b03-fece-46ee-d89e-b1ad5ec5d5e0"
      },
      "execution_count": null,
      "outputs": [
        {
          "output_type": "stream",
          "name": "stdout",
          "text": [
            "553/553 - 1s - loss: 0.5091 - binary_accuracy: 0.6056\n"
          ]
        },
        {
          "output_type": "display_data",
          "data": {
            "text/plain": [
              "<Figure size 432x288 with 1 Axes>"
            ],
            "image/png": "[encoded data removed]"
          },
          "metadata": {
            "needs_background": "light"
          }
        }
      ]
    },
    {
      "cell_type": "code",
      "source": [
        "test_loss"
      ],
      "metadata": {
        "colab": {
          "base_uri": "https://localhost:8080/"
        },
        "id": "RrmUU1tDbBZ6",
        "outputId": "4ffcf9f8-8544-4a2b-f2f1-58b00fed05ed"
      },
      "execution_count": null,
      "outputs": [
        {
          "output_type": "execute_result",
          "data": {
            "text/plain": [
              "0.5090715289115906"
            ]
          },
          "metadata": {},
          "execution_count": 92
        }
      ]
    },
    {
      "cell_type": "code",
      "source": [
        "test_acc"
      ],
      "metadata": {
        "colab": {
          "base_uri": "https://localhost:8080/"
        },
        "id": "sLruiksbbE_b",
        "outputId": "49244886-1411-42cf-94d4-d384b44753b1"
      },
      "execution_count": null,
      "outputs": [
        {
          "output_type": "execute_result",
          "data": {
            "text/plain": [
              "0.6056135892868042"
            ]
          },
          "metadata": {},
          "execution_count": 93
        }
      ]
    },
    {
      "cell_type": "code",
      "source": [
        "for k in range(20):\n",
        "  model.fit(x_train,y_train)\n",
        "  accuracy=acc(x_val,y_val,model)\n",
        "  a.append(accuracy)"
      ],
      "metadata": {
        "id": "5gCNsC0UvxT_"
      },
      "execution_count": null,
      "outputs": []
    },
    {
      "cell_type": "code",
      "source": [
        "def acc_new(x_test,y_test,clf):\n",
        "  a=0\n",
        "  fp=0\n",
        "  fn=0\n",
        "  tp=0\n",
        "  tn=0\n",
        "  for i in range(len(x_test)):\n",
        "    res=clf.predict(x_test[i].reshape(1,-1))\n",
        "    #print(res)\n",
        "    if res==y_test[i]:\n",
        "      a+=1\n",
        "      if y_test[i]==1:\n",
        "        tp+=1\n",
        "      else:\n",
        "        tn+=1\n",
        "    else:\n",
        "      if y_test[i]==1:\n",
        "        fp+=1\n",
        "      else:\n",
        "        fn+=1\n",
        "  return a/len(x_test),fp,fn,tp,tn\n",
        "\n"
      ],
      "metadata": {
        "id": "cKThhsp9BzkS"
      },
      "execution_count": null,
      "outputs": []
    },
    {
      "cell_type": "code",
      "execution_count": null,
      "metadata": {
        "id": "opzITqCdSGKX",
        "colab": {
          "base_uri": "https://localhost:8080/",
          "height": 279
        },
        "outputId": "acb2ca2b-d1d6-4104-e515-45cb24ebff32"
      },
      "outputs": [
        {
          "output_type": "display_data",
          "data": {
            "text/plain": [
              "<Figure size 432x288 with 1 Axes>"
            ],
            "image/png": "[encoded data removed]"
          },
          "metadata": {
            "needs_background": "light"
          }
        }
      ],
      "source": [
        "import matplotlib.pyplot as plt\n",
        "plt.plot([*range(1,21)],a)\n",
        "plt.ylabel('accuarcy')\n",
        "plt.xlabel('K')\n",
        "plt.show()"
      ]
    },
    {
      "cell_type": "code",
      "source": [
        "k=a.index(max(a))+1\n",
        "print(k)"
      ],
      "metadata": {
        "id": "b7auGXhKMLw3",
        "colab": {
          "base_uri": "https://localhost:8080/"
        },
        "outputId": "78b798d5-046f-4396-f23a-73e0df0b0a38"
      },
      "execution_count": null,
      "outputs": [
        {
          "output_type": "stream",
          "name": "stdout",
          "text": [
            "8\n"
          ]
        }
      ]
    },
    {
      "cell_type": "code",
      "source": [
        "k"
      ],
      "metadata": {
        "id": "RsCf3803Uzco",
        "outputId": "92533e61-ea22-471f-b315-cd5cbca8a0d9",
        "colab": {
          "base_uri": "https://localhost:8080/"
        }
      },
      "execution_count": null,
      "outputs": [
        {
          "output_type": "execute_result",
          "data": {
            "text/plain": [
              "9"
            ]
          },
          "metadata": {},
          "execution_count": 11
        }
      ]
    },
    {
      "cell_type": "code",
      "source": [
        "a"
      ],
      "metadata": {
        "colab": {
          "base_uri": "https://localhost:8080/"
        },
        "id": "NJinES6rMYXr",
        "outputId": "d71f3e6b-d695-401c-b00c-7fe30dee3ada"
      },
      "execution_count": null,
      "outputs": [
        {
          "output_type": "execute_result",
          "data": {
            "text/plain": [
              "[0.7715965626413388,\n",
              " 0.7685436454093171,\n",
              " 0.7685436454093171,\n",
              " 0.7674129353233831,\n",
              " 0.7726142017186793,\n",
              " 0.770805065581185,\n",
              " 0.7720488466757124,\n",
              " 0.7723880597014925,\n",
              " 0.7736318407960199,\n",
              " 0.771370420624152,\n",
              " 0.7697874265038445,\n",
              " 0.7710312075983717,\n",
              " 0.7676390773405699,\n",
              " 0.769674355495251,\n",
              " 0.7663952962460425,\n",
              " 0.7652645861601085,\n",
              " 0.7671867933061963,\n",
              " 0.7652645861601085,\n",
              " 0.7652645861601085,\n",
              " 0.7649253731343284,\n",
              " 0.7640208050655812,\n",
              " 0.7640208050655812,\n",
              " 0.7623247399366803,\n",
              " 0.765377657168702,\n",
              " 0.7622116689280869]"
            ]
          },
          "metadata": {},
          "execution_count": 12
        }
      ]
    },
    {
      "cell_type": "code",
      "execution_count": null,
      "metadata": {
        "colab": {
          "base_uri": "https://localhost:8080/"
        },
        "id": "FDj_WmS4RT6T",
        "outputId": "c5b2d013-b3d1-4c9d-b61d-4f2410cbbd77"
      },
      "outputs": [
        {
          "output_type": "execute_result",
          "data": {
            "text/plain": [
              "KNeighborsClassifier(n_neighbors=8)"
            ]
          },
          "metadata": {},
          "execution_count": 7
        }
      ],
      "source": [
        "knn = KNeighborsClassifier(n_neighbors=k) # Ben de encoded columnları silmek zorunda kaldım.\n",
        "knn.fit(x_train,y_train)"
      ]
    },
    {
      "cell_type": "code",
      "execution_count": null,
      "metadata": {
        "id": "7LTj2TiURXT5"
      },
      "outputs": [],
      "source": [
        "accuracy,f_p,f_n,t_p,t_n=acc_new(x_test,y_test,knn)"
      ]
    },
    {
      "cell_type": "code",
      "source": [
        "print(\"accuracy\",accuracy)\n",
        "print(\"false positive\",f_p)\n",
        "print(\"false negative\",f_n)\n",
        "print(\"true positive\",t_p)\n",
        "print(\"true negative\",t_n)"
      ],
      "metadata": {
        "colab": {
          "base_uri": "https://localhost:8080/"
        },
        "id": "H-FbEMMGW3-i",
        "outputId": "cd6c722c-28e0-4738-dabc-cd74d63f2b81"
      },
      "execution_count": null,
      "outputs": [
        {
          "output_type": "stream",
          "name": "stdout",
          "text": [
            "accuracy 0.77213902232269\n",
            "false positive 2565\n",
            "false negative 1467\n",
            "true positive 6332\n",
            "true negative 7331\n"
          ]
        }
      ]
    }
  ],
  "metadata": {
    "colab": {
      "provenance": []
    },
    "kernelspec": {
      "display_name": "Python 3",
      "name": "python3"
    },
    "language_info": {
      "name": "python"
    }
  },
  "nbformat": 4,
  "nbformat_minor": 0
}