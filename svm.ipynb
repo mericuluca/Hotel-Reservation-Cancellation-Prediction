{
  "cells": [
    {
      "cell_type": "code",
      "execution_count": null,
      "metadata": {
        "id": "GpyD4b23aaNF"
      },
      "outputs": [],
      "source": [
        "import numpy as np\n",
        "import pandas as pd\n",
        "import matplotlib.pyplot as plt\n",
        "from sklearn.preprocessing import *\n",
        "from sklearn import preprocessing\n",
        "from imblearn.under_sampling import RandomUnderSampler\n",
        "\n",
        "data = pd.read_csv(\"hotel_booking.csv\")\n",
        "\n",
        "\n",
        "data_deleted= data.drop(data.columns[[3,4,5,6,10,13,23,24,25,28,29,30,31,32,33,34,35]] , axis = 1)\n",
        "\n",
        "for name in [\"hotel\",\"meal\",\"market_segment\",\"distribution_channel\",\"reserved_room_type\",\"assigned_room_type\",\"deposit_type\",\"customer_type\"]:\n",
        "    enc_arr = OneHotEncoder().fit_transform(data[[name]]).toarray()\n",
        "    data_deleted[\"encoded_\"+name] = enc_arr.tolist()\n",
        "    #print(data_deleted)\n",
        "    data_deleted.drop(name,axis=1, inplace=True)\n",
        "\n",
        "for name in [\"lead_time\",\"stays_in_weekend_nights\",\"stays_in_week_nights\",\"adults\",\"babies\",\"is_repeated_guest\",\"previous_cancellations\",\"previous_bookings_not_canceled\",\"booking_changes\",\"adr\"]:\n",
        "    arr = data_deleted[name].to_numpy()\n",
        "    normalized_arr = preprocessing.normalize([arr])\n",
        "    normalized_arr_transpose = np.transpose(normalized_arr)\n",
        "    data_deleted[\"normalized_\"+name] = normalized_arr_transpose.tolist()\n",
        "    data_deleted.drop(name, axis=1, inplace=True)\n",
        "\n",
        "X=data_deleted.drop(\"is_canceled\",axis=1)\n",
        "y = data_deleted[\"is_canceled\"]\n",
        "\n",
        "rus = RandomUnderSampler(sampling_strategy='not minority')\n",
        "X_res, y_res = rus.fit_resample(X,y)\n",
        "\n",
        "final_data = X_res.join(y_res)\n",
        "\n",
        "final_data.to_csv(\"final_data.csv\", index = False,header=None)\n"
      ]
    },
    {
      "cell_type": "code",
      "source": [
        "df = pd.DataFrame(data)\n",
        "print(df)"
      ],
      "metadata": {
        "colab": {
          "base_uri": "https://localhost:8080/"
        },
        "id": "PU9Q7SMHjIYs",
        "outputId": "28a2c0e8-4518-4d54-b6b1-4316e5b93196"
      },
      "execution_count": null,
      "outputs": [
        {
          "output_type": "stream",
          "name": "stdout",
          "text": [
            "               hotel  is_canceled  lead_time  arrival_date_year  \\\n",
            "0       Resort Hotel            0        342               2015   \n",
            "1       Resort Hotel            0        737               2015   \n",
            "2       Resort Hotel            0          7               2015   \n",
            "3       Resort Hotel            0         13               2015   \n",
            "4       Resort Hotel            0         14               2015   \n",
            "...              ...          ...        ...                ...   \n",
            "119385    City Hotel            0         23               2017   \n",
            "119386    City Hotel            0        102               2017   \n",
            "119387    City Hotel            0         34               2017   \n",
            "119388    City Hotel            0        109               2017   \n",
            "119389    City Hotel            0        205               2017   \n",
            "\n",
            "       arrival_date_month  arrival_date_week_number  \\\n",
            "0                    July                        27   \n",
            "1                    July                        27   \n",
            "2                    July                        27   \n",
            "3                    July                        27   \n",
            "4                    July                        27   \n",
            "...                   ...                       ...   \n",
            "119385             August                        35   \n",
            "119386             August                        35   \n",
            "119387             August                        35   \n",
            "119388             August                        35   \n",
            "119389             August                        35   \n",
            "\n",
            "        arrival_date_day_of_month  stays_in_weekend_nights  \\\n",
            "0                               1                        0   \n",
            "1                               1                        0   \n",
            "2                               1                        0   \n",
            "3                               1                        0   \n",
            "4                               1                        0   \n",
            "...                           ...                      ...   \n",
            "119385                         30                        2   \n",
            "119386                         31                        2   \n",
            "119387                         31                        2   \n",
            "119388                         31                        2   \n",
            "119389                         29                        2   \n",
            "\n",
            "        stays_in_week_nights  adults  ...  customer_type     adr  \\\n",
            "0                          0       2  ...      Transient    0.00   \n",
            "1                          0       2  ...      Transient    0.00   \n",
            "2                          1       1  ...      Transient   75.00   \n",
            "3                          1       1  ...      Transient   75.00   \n",
            "4                          2       2  ...      Transient   98.00   \n",
            "...                      ...     ...  ...            ...     ...   \n",
            "119385                     5       2  ...      Transient   96.14   \n",
            "119386                     5       3  ...      Transient  225.43   \n",
            "119387                     5       2  ...      Transient  157.71   \n",
            "119388                     5       2  ...      Transient  104.40   \n",
            "119389                     7       2  ...      Transient  151.20   \n",
            "\n",
            "       required_car_parking_spaces total_of_special_requests  \\\n",
            "0                                0                         0   \n",
            "1                                0                         0   \n",
            "2                                0                         0   \n",
            "3                                0                         0   \n",
            "4                                0                         1   \n",
            "...                            ...                       ...   \n",
            "119385                           0                         0   \n",
            "119386                           0                         2   \n",
            "119387                           0                         4   \n",
            "119388                           0                         0   \n",
            "119389                           0                         2   \n",
            "\n",
            "       reservation_status reservation_status_date                name  \\\n",
            "0               Check-Out              2015-07-01       Ernest Barnes   \n",
            "1               Check-Out              2015-07-01        Andrea Baker   \n",
            "2               Check-Out              2015-07-02      Rebecca Parker   \n",
            "3               Check-Out              2015-07-02        Laura Murray   \n",
            "4               Check-Out              2015-07-03         Linda Hines   \n",
            "...                   ...                     ...                 ...   \n",
            "119385          Check-Out              2017-09-06     Claudia Johnson   \n",
            "119386          Check-Out              2017-09-07      Wesley Aguilar   \n",
            "119387          Check-Out              2017-09-07        Mary Morales   \n",
            "119388          Check-Out              2017-09-07  Caroline Conley MD   \n",
            "119389          Check-Out              2017-09-07      Ariana Michael   \n",
            "\n",
            "                              email  phone-number       credit_card  \n",
            "0       Ernest.Barnes31@outlook.com  669-792-1661  ************4322  \n",
            "1            Andrea_Baker94@aol.com  858-637-6955  ************9157  \n",
            "2        Rebecca_Parker@comcast.net  652-885-2745  ************3734  \n",
            "3                 Laura_M@gmail.com  364-656-8427  ************5677  \n",
            "4                LHines@verizon.com  713-226-5883  ************5498  \n",
            "...                             ...           ...               ...  \n",
            "119385          Claudia.J@yahoo.com  403-092-5582  ************8647  \n",
            "119386         WAguilar@xfinity.com  238-763-0612  ************4333  \n",
            "119387     Mary_Morales@hotmail.com  395-518-4100  ************1821  \n",
            "119388      MD_Caroline@comcast.net  531-528-1017  ************7860  \n",
            "119389         Ariana_M@xfinity.com  422-804-6403  ************4482  \n",
            "\n",
            "[119390 rows x 36 columns]\n"
          ]
        }
      ]
    },
    {
      "cell_type": "code",
      "execution_count": null,
      "metadata": {
        "id": "b0roTJCwajOD"
      },
      "outputs": [],
      "source": [
        "import numpy as np\n",
        "import pandas as pd\n",
        "import matplotlib.pyplot as plt\n",
        "from sklearn.preprocessing import *\n",
        "from sklearn import preprocessing\n",
        "from imblearn.under_sampling import RandomUnderSampler\n",
        "data = pd.read_csv(\"final_data.csv\")"
      ]
    },
    {
      "cell_type": "code",
      "execution_count": null,
      "metadata": {
        "id": "B61qv7e6aldU"
      },
      "outputs": [],
      "source": [
        "from sklearn import svm\n",
        "np.random.seed(7)\n",
        "data= data.to_numpy()"
      ]
    },
    {
      "cell_type": "code",
      "execution_count": null,
      "metadata": {
        "id": "fJ1SUZ26arAP"
      },
      "outputs": [],
      "source": [
        "x_=data[:,0:-1]\n",
        "y=data[:,-1]\n",
        "a=True\n",
        "b=True\n",
        "c=3\n",
        "d=[]\n",
        "for i in x_:\n",
        "  #print(i)\n",
        "  x=[]\n",
        "  for j in i:\n",
        "    #print(j)\n",
        "    #print(len(j))\n",
        "    if j.__contains__(','):\n",
        "      for e in range(len(j)):\n",
        "        #print(len(j))\n",
        "        if e%5==0:\n",
        "          #print(e%5)\n",
        "          #print(e)\n",
        "          if e<len(j)-2:\n",
        "            #print(len(j)-2)\n",
        "            #print((j[e+1:e+1+c]))\n",
        "            x.append(float(j[e+1:e+1+c]))\n",
        "            #print(x)\n",
        "    else:\n",
        "      x.append(j[1:len(j)-1])\n",
        "  #print(type(x[0]))\n",
        "  d.append(x)\n",
        "  #print(type(d[0][0]))"
      ]
    },
    {
      "cell_type": "code",
      "execution_count": null,
      "metadata": {
        "colab": {
          "base_uri": "https://localhost:8080/"
        },
        "id": "h3aC5IBtatyU",
        "outputId": "fa06b072-3745-4440-8c9a-341301b0bf3e"
      },
      "outputs": [
        {
          "output_type": "stream",
          "name": "stderr",
          "text": [
            "<ipython-input-6-4708b22b29f5>:2: DeprecationWarning: `np.float` is a deprecated alias for the builtin `float`. To silence this warning, use `float` by itself. Doing this will not modify any behavior and is safe. If you specifically wanted the numpy scalar type, use `np.float64` here.\n",
            "Deprecated in NumPy 1.20; for more details and guidance: https://numpy.org/devdocs/release/1.20.0-notes.html#deprecations\n",
            "  x_data=x_data.astype(np.float)\n"
          ]
        }
      ],
      "source": [
        "x_data=np.array(d)\n",
        "x_data=x_data.astype(np.float)"
      ]
    },
    {
      "cell_type": "code",
      "execution_count": null,
      "metadata": {
        "id": "hV3WcaflVgoP"
      },
      "outputs": [],
      "source": [
        "from sklearn.decomposition import PCA\n",
        "pca = PCA(n_components=10)\n",
        "x_data=pca.fit_transform(x_data)"
      ]
    },
    {
      "cell_type": "code",
      "execution_count": null,
      "metadata": {
        "colab": {
          "base_uri": "https://localhost:8080/"
        },
        "id": "5HlhFQ_sVpTZ",
        "outputId": "e198347d-ec84-48a5-fe70-05038742c9e0"
      },
      "outputs": [
        {
          "data": {
            "text/plain": [
              "(88447, 10)"
            ]
          },
          "execution_count": 9,
          "metadata": {},
          "output_type": "execute_result"
        }
      ],
      "source": [
        "np.shape(x_data)"
      ]
    },
    {
      "cell_type": "code",
      "execution_count": null,
      "metadata": {
        "colab": {
          "base_uri": "https://localhost:8080/"
        },
        "id": "BjiqTi3zaxAY",
        "outputId": "ad296b42-ddcb-4507-f317-00de9d41b8f5"
      },
      "outputs": [
        {
          "output_type": "stream",
          "name": "stdout",
          "text": [
            "(17695, 10)\n",
            "(17695,)\n"
          ]
        }
      ],
      "source": [
        "x_arr=  np.empty(x_data.shape, dtype=x_data.dtype)\n",
        "y_arr = np.empty(y.shape, dtype=y.dtype)\n",
        "p = np.random.permutation(len(x_data))\n",
        "for m, n in enumerate(p):\n",
        "  x_arr[n] = x_data[m]\n",
        "  y_arr[n] = y[m]\n",
        "x_train=x_arr[0:(len(x_arr)//10)*7]\n",
        "y_train=y_arr[0:(len(y_arr)//10)*7]\n",
        "x_val=x_arr[(len(x_arr)//10)*7:(len(x_arr)//10)*8]\n",
        "y_val=y_arr[(len(x_arr)//10)*7:(len(y_arr)//10)*8]\n",
        "x_test=x_arr[(len(x_arr)//10)*8:len(x_arr)]\n",
        "y_test=y_arr[(len(y_arr)//10)*8:len(y_arr)]\n",
        "print(np.shape(x_test))\n",
        "print(np.shape(y_test))"
      ]
    },
    {
      "cell_type": "code",
      "source": [
        "df = pd.DataFrame(x_train)\n",
        "\n",
        "print(df)"
      ],
      "metadata": {
        "colab": {
          "base_uri": "https://localhost:8080/"
        },
        "id": "9Ji6EhkBjd-9",
        "outputId": "2c489c26-6794-4d5a-d336-213a469fa6c3"
      },
      "execution_count": null,
      "outputs": [
        {
          "output_type": "stream",
          "name": "stdout",
          "text": [
            "              0         1         2         3         4         5         6  \\\n",
            "0     -0.240290 -0.816598 -0.288868 -0.135657  0.266687 -0.333583 -0.106568   \n",
            "1     -0.976307  0.424308  0.139980  0.899776  0.217632 -0.621115  0.456929   \n",
            "2      0.087461 -0.458018 -0.039677  0.600160  0.211683 -0.468928 -0.006509   \n",
            "3      0.327110  0.783906  0.622194  0.815521  0.853144 -0.272556  0.134787   \n",
            "4      1.239486  0.079474 -0.406520 -0.373583 -0.402088 -0.483223 -0.038493   \n",
            "...         ...       ...       ...       ...       ...       ...       ...   \n",
            "61903 -1.099605 -0.116648  0.662410 -0.523159 -0.533804  0.290114 -0.733087   \n",
            "61904  0.526831  0.652291 -0.730479  0.618118 -0.197372 -0.879446  0.045432   \n",
            "61905  1.117063  1.208599 -0.127043 -0.747333  0.707691  0.833684  0.314464   \n",
            "61906  1.191211 -0.880579  0.812392  0.405639 -0.142696 -0.014913  0.140657   \n",
            "61907 -0.619182 -0.193694  0.136180 -0.006959  0.119340  0.144999 -0.965323   \n",
            "\n",
            "              7         8         9  \n",
            "0     -0.012352 -0.081497 -0.244493  \n",
            "1      0.076784 -0.168263  0.068657  \n",
            "2      0.347017 -0.049078  0.000462  \n",
            "3      1.230439  1.656683  0.042743  \n",
            "4      0.421054 -0.078517 -0.074289  \n",
            "...         ...       ...       ...  \n",
            "61903  0.087207 -0.003773  0.042587  \n",
            "61904  0.106061 -0.099629  0.090451  \n",
            "61905  0.203076 -0.291103  0.233989  \n",
            "61906 -0.241441 -0.016838 -0.063409  \n",
            "61907 -0.008100 -0.062612  0.024453  \n",
            "\n",
            "[61908 rows x 10 columns]\n"
          ]
        }
      ]
    },
    {
      "cell_type": "code",
      "execution_count": null,
      "metadata": {
        "id": "uuJs4ug8azoi"
      },
      "outputs": [],
      "source": [
        "def acc(x_test,y_test,clf):\n",
        "  a=0\n",
        "  for i in range(len(x_test)):\n",
        "    res=clf.predict(x_test[i].reshape(1,-1))\n",
        "    #print(res)\n",
        "    if res==y_test[i]:\n",
        "      a+=1\n",
        "  return a/len(x_test)"
      ]
    },
    {
      "cell_type": "code",
      "execution_count": null,
      "metadata": {
        "colab": {
          "base_uri": "https://localhost:8080/"
        },
        "id": "qJzg6RZDa9iI",
        "outputId": "44857952-4c1f-401f-b245-6af567e03b36"
      },
      "outputs": [
        {
          "output_type": "stream",
          "name": "stderr",
          "text": [
            "<ipython-input-9-cc0a228148a9>:1: DeprecationWarning: `np.float` is a deprecated alias for the builtin `float`. To silence this warning, use `float` by itself. Doing this will not modify any behavior and is safe. If you specifically wanted the numpy scalar type, use `np.float64` here.\n",
            "Deprecated in NumPy 1.20; for more details and guidance: https://numpy.org/devdocs/release/1.20.0-notes.html#deprecations\n",
            "  y_train=y_train.astype(np.float)\n"
          ]
        }
      ],
      "source": [
        "y_train=y_train.astype(np.float)"
      ]
    },
    {
      "cell_type": "code",
      "execution_count": null,
      "metadata": {
        "colab": {
          "base_uri": "https://localhost:8080/"
        },
        "id": "qbiKwy0LcQMa",
        "outputId": "c4b213aa-e702-420a-f149-0ec7f3b0532d"
      },
      "outputs": [
        {
          "data": {
            "text/plain": [
              "array([-1.19620262, -0.05014343,  0.73512438, -0.65840129, -0.56265671,\n",
              "       -0.11700032,  0.49911453,  0.05658684, -0.03101561,  0.03437247])"
            ]
          },
          "execution_count": 12,
          "metadata": {},
          "output_type": "execute_result"
        }
      ],
      "source": [
        "x_train[0]"
      ]
    },
    {
      "cell_type": "code",
      "execution_count": null,
      "metadata": {
        "id": "XzijkQwzk8E5"
      },
      "outputs": [],
      "source": [
        "C_range = np.logspace(0, 8, 9)"
      ]
    },
    {
      "cell_type": "code",
      "execution_count": null,
      "metadata": {
        "colab": {
          "base_uri": "https://localhost:8080/"
        },
        "id": "V7_1lz7QlJG7",
        "outputId": "ac598e3e-d8d5-4f91-9c58-75b856b0bf1d"
      },
      "outputs": [
        {
          "data": {
            "text/plain": [
              "array([1.e+00, 1.e+01, 1.e+02, 1.e+03, 1.e+04, 1.e+05, 1.e+06, 1.e+07,\n",
              "       1.e+08])"
            ]
          },
          "execution_count": 14,
          "metadata": {},
          "output_type": "execute_result"
        }
      ],
      "source": [
        "C_range"
      ]
    },
    {
      "cell_type": "code",
      "execution_count": null,
      "metadata": {
        "id": "-I_kmiaHa_gD"
      },
      "outputs": [],
      "source": [
        "a= []\n",
        "for k in C_range:\n",
        "  svm_= svm.SVC(C=k)\n",
        "  svm_.fit(x_train,y_train)\n",
        "  accuracy=acc(x_val,y_val,svm_)\n",
        "  a.append(accuracy)"
      ]
    },
    {
      "cell_type": "code",
      "execution_count": null,
      "metadata": {
        "colab": {
          "base_uri": "https://localhost:8080/",
          "height": 279
        },
        "id": "8j0FREI8dhKD",
        "outputId": "45c22d0f-9f5f-4bff-de30-4a771ec457a9"
      },
      "outputs": [
        {
          "output_type": "display_data",
          "data": {
            "text/plain": [
              "<Figure size 432x288 with 1 Axes>"
            ],
            "image/png": "[encoded data removed]"
          },
          "metadata": {
            "needs_background": "light"
          }
        }
      ],
      "source": [
        "import matplotlib.pyplot as plt\n",
        "plt.plot(a)\n",
        "plt.ylabel('accuarcy')\n",
        "plt.xlabel('c')\n",
        "plt.show()"
      ]
    },
    {
      "cell_type": "code",
      "source": [
        "len(data)"
      ],
      "metadata": {
        "id": "m2GjtZwLrDyI"
      },
      "execution_count": null,
      "outputs": []
    },
    {
      "cell_type": "code",
      "execution_count": null,
      "metadata": {
        "colab": {
          "base_uri": "https://localhost:8080/"
        },
        "id": "N6gHi7M_TLE6",
        "outputId": "e5892afc-9dfb-4595-ac85-d582cfc76965"
      },
      "outputs": [
        {
          "output_type": "execute_result",
          "data": {
            "text/plain": [
              "[0.7044323835368611,\n",
              " 0.7094075079149706,\n",
              " 0.7101990049751243,\n",
              " 0.7098597919493442,\n",
              " 0.7099728629579376,\n",
              " 0.7099728629579376,\n",
              " 0.7047715965626413,\n",
              " 0.7047715965626413,\n",
              " 0.7031886024423338]"
            ]
          },
          "metadata": {},
          "execution_count": 13
        }
      ],
      "source": [
        "a"
      ]
    },
    {
      "cell_type": "code",
      "execution_count": null,
      "metadata": {
        "id": "5BXAOFutAYoQ",
        "colab": {
          "base_uri": "https://localhost:8080/"
        },
        "outputId": "7d8d5052-a457-4dea-dcb5-0ae205fd8d1a"
      },
      "outputs": [
        {
          "output_type": "stream",
          "name": "stdout",
          "text": [
            "100.0\n"
          ]
        }
      ],
      "source": [
        "c=[*C_range][a.index(max(a))]\n",
        "print(c)"
      ]
    },
    {
      "cell_type": "code",
      "execution_count": null,
      "metadata": {
        "colab": {
          "base_uri": "https://localhost:8080/"
        },
        "id": "3jmy7nJYUupz",
        "outputId": "fa00e312-b043-4e0f-905f-820f11bf32c3"
      },
      "outputs": [
        {
          "output_type": "execute_result",
          "data": {
            "text/plain": [
              "100.0"
            ]
          },
          "metadata": {},
          "execution_count": 16
        }
      ],
      "source": [
        "c"
      ]
    },
    {
      "cell_type": "code",
      "execution_count": null,
      "metadata": {
        "id": "Ebrw8_PJGfsU"
      },
      "outputs": [],
      "source": [
        "def acc_new(x_test,y_test,clf):\n",
        "  a=0\n",
        "  fp=0\n",
        "  fn=0\n",
        "  tp=0\n",
        "  tn=0\n",
        "  for i in range(len(x_test)):\n",
        "    res=clf.predict(x_test[i].reshape(1,-1))\n",
        "    #print(res)\n",
        "    if res==y_test[i]:\n",
        "      a+=1\n",
        "      if y_test[i]==1:\n",
        "        tp+=1\n",
        "      else:\n",
        "        tn+=1\n",
        "    else:\n",
        "      if y_test[i]==1:\n",
        "        fp+=1\n",
        "      else:\n",
        "        fn+=1\n",
        "  return a/len(x_test),fp,fn,tp,tn"
      ]
    },
    {
      "cell_type": "code",
      "source": [
        "d_range = range(1,10)\n",
        "a= []\n",
        "for k in d_range:\n",
        "  svm_= svm.SVC(C=100,degree=k)\n",
        "  svm_.fit(x_train,y_train)\n",
        "  accuracy=acc(x_val,y_val,svm_)\n",
        "  a.append(accuracy)"
      ],
      "metadata": {
        "id": "7yYz9QC6y3P3"
      },
      "execution_count": null,
      "outputs": []
    },
    {
      "cell_type": "code",
      "source": [
        "import matplotlib.pyplot as plt\n",
        "plt.plot(a)\n",
        "plt.ylabel('accuarcy')\n",
        "plt.xlabel('degree')\n",
        "plt.show()"
      ],
      "metadata": {
        "id": "EwyVivvXy3AP"
      },
      "execution_count": null,
      "outputs": []
    },
    {
      "cell_type": "code",
      "source": [
        "[*d_range][a.index(max(a))]"
      ],
      "metadata": {
        "id": "abydwOfmzIQg"
      },
      "execution_count": null,
      "outputs": []
    },
    {
      "cell_type": "code",
      "source": [
        "gamma_range = np.logspace(-3, 2, 6)\n",
        "a= []\n",
        "for k in gamma_range:\n",
        "  svm_= svm.SVC(C=100,gamma=k)\n",
        "  svm_.fit(x_train,y_train)\n",
        "  accuracy=acc(x_val,y_val,svm_)\n",
        "  a.append(accuracy)\n"
      ],
      "metadata": {
        "id": "FURcf3inS808"
      },
      "execution_count": null,
      "outputs": []
    },
    {
      "cell_type": "code",
      "source": [
        "import matplotlib.pyplot as plt\n",
        "plt.plot(a)\n",
        "plt.ylabel('accuarcy')\n",
        "plt.xlabel('index')\n",
        "plt.show()"
      ],
      "metadata": {
        "colab": {
          "base_uri": "https://localhost:8080/",
          "height": 279
        },
        "id": "qsEdCt79XwrC",
        "outputId": "194f6dc2-af71-4109-8f24-db50800c8431"
      },
      "execution_count": null,
      "outputs": [
        {
          "output_type": "display_data",
          "data": {
            "text/plain": [
              "<Figure size 432x288 with 1 Axes>"
            ],
            "image/png": "[encoded data removed]"
          },
          "metadata": {
            "needs_background": "light"
          }
        }
      ]
    },
    {
      "cell_type": "code",
      "source": [
        "gamma"
      ],
      "metadata": {
        "colab": {
          "base_uri": "https://localhost:8080/"
        },
        "id": "U6njkFFywS_K",
        "outputId": "4b5c66ff-d4fd-44d6-b3d3-1c409f378d8f"
      },
      "execution_count": null,
      "outputs": [
        {
          "output_type": "execute_result",
          "data": {
            "text/plain": [
              "1.0"
            ]
          },
          "metadata": {},
          "execution_count": 21
        }
      ]
    },
    {
      "cell_type": "code",
      "source": [
        "gamma=[*gamma_range][a.index(max(a))]\n",
        "svm_ = svm.SVC(C=100,gamma=gamma)\n",
        "svm_.fit(x_train,y_train)\n",
        "accuracy,f_p,f_n,t_p,t_n=acc_new(x_test,y_test,svm_)"
      ],
      "metadata": {
        "id": "PPWqXxy2TSKZ"
      },
      "execution_count": null,
      "outputs": []
    },
    {
      "cell_type": "code",
      "source": [
        "print(\"accuracy\",accuracy)\n",
        "print(\"false positive\",f_p)\n",
        "print(\"false negative\",f_n)\n",
        "print(\"true positive\",t_p)\n",
        "print(\"true negative\",t_n)"
      ],
      "metadata": {
        "colab": {
          "base_uri": "https://localhost:8080/"
        },
        "id": "6rjlLsMLYAnx",
        "outputId": "3ef3dda1-6b43-40f4-b51a-85b520c0f631"
      },
      "execution_count": null,
      "outputs": [
        {
          "output_type": "stream",
          "name": "stdout",
          "text": [
            "accuracy 0.7168126589432043\n",
            "false positive 1828\n",
            "false negative 3183\n",
            "true positive 7069\n",
            "true negative 5615\n"
          ]
        }
      ]
    }
  ],
  "metadata": {
    "colab": {
      "provenance": []
    },
    "kernelspec": {
      "display_name": "Python 3",
      "name": "python3"
    },
    "language_info": {
      "name": "python"
    }
  },
  "nbformat": 4,
  "nbformat_minor": 0
}